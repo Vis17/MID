{
 "cells": [
  {
   "cell_type": "markdown",
   "id": "48db8388-8425-4a21-a4cf-a5b69a508760",
   "metadata": {},
   "source": [
    "Question 23: "
   ]
  },
  {
   "cell_type": "code",
   "execution_count": 4,
   "id": "b54b2e4f-bfb7-4587-9480-2daf221da98d",
   "metadata": {},
   "outputs": [
    {
     "name": "stdout",
     "output_type": "stream",
     "text": [
      ">>> f(0, 0)\n",
      "\n",
      ">>> f(0, 1)\n",
      "*\n",
      "*\n",
      "\n",
      ">>> f(0, 2)\n",
      "**\n",
      " *\n",
      " *\n",
      "**\n",
      "\n",
      ">>> f(0, 4)\n",
      "****\n",
      " ***\n",
      "  **\n",
      "   *\n",
      "   *\n",
      "  **\n",
      " ***\n",
      "****\n"
     ]
    }
   ],
   "source": [
    "def f(indent, n):\n",
    "    if n == 0:\n",
    "        return\n",
    "    print(\" \" * indent + \"*\" * n)\n",
    "    f(indent + 1, n - 1)\n",
    "    print(\" \" * indent + \"*\" * n)\n",
    "\n",
    "\n",
    "print(\">>> f(0, 0)\")\n",
    "f(0, 0)\n",
    "\n",
    "print(\"\\n>>> f(0, 1)\")\n",
    "f(0, 1)\n",
    "\n",
    "print(\"\\n>>> f(0, 2)\")\n",
    "f(0, 2)\n",
    "\n",
    "print(\"\\n>>> f(0, 4)\")\n",
    "f(0, 4)\n"
   ]
  },
  {
   "cell_type": "code",
   "execution_count": null,
   "id": "a14046f4-4b9d-4441-ad14-287db9c969b6",
   "metadata": {},
   "outputs": [],
   "source": []
  }
 ],
 "metadata": {
  "kernelspec": {
   "display_name": "Python 3 (ipykernel)",
   "language": "python",
   "name": "python3"
  },
  "language_info": {
   "codemirror_mode": {
    "name": "ipython",
    "version": 3
   },
   "file_extension": ".py",
   "mimetype": "text/x-python",
   "name": "python",
   "nbconvert_exporter": "python",
   "pygments_lexer": "ipython3",
   "version": "3.12.4"
  }
 },
 "nbformat": 4,
 "nbformat_minor": 5
}

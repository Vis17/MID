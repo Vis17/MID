{
 "cells": [
  {
   "cell_type": "markdown",
   "id": "f093c640-0256-4cd6-ae3d-8eae0420a19c",
   "metadata": {},
   "source": [
    "Question 1"
   ]
  },
  {
   "cell_type": "code",
   "execution_count": 3,
   "id": "d1541ed1-e1db-41ea-9a8c-9ca7e9607ef6",
   "metadata": {},
   "outputs": [
    {
     "name": "stdout",
     "output_type": "stream",
     "text": [
      "   id\n",
      "1   2\n",
      "3   4\n"
     ]
    }
   ],
   "source": [
    "import pandas as pd\n",
    "\n",
    "\n",
    "data = {\n",
    "    'id': [1, 2, 3, 4],\n",
    "    'recordDate': ['2015-01-01', '2015-01-02', '2015-01-03', '2015-01-04'],\n",
    "    'temperature': [10, 25, 20, 30]\n",
    "}\n",
    "\n",
    "df = pd.DataFrame(data)\n",
    "\n",
    "\n",
    "df['recordDate'] = pd.to_datetime(df['recordDate'])\n",
    "\n",
    "\n",
    "df['prev_temp'] = df['temperature'].shift(1)\n",
    "result = df[df['temperature'] > df['prev_temp']]\n",
    "\n",
    "\n",
    "print(result[['id']])\n"
   ]
  },
  {
   "cell_type": "markdown",
   "id": "4e9b9cc9-5c03-459b-b0a1-9f14fa0d4f8d",
   "metadata": {},
   "source": [
    "Q2. SQL Command"
   ]
  },
  {
   "cell_type": "code",
   "execution_count": 9,
   "id": "ffdfba42-9629-4dcc-b639-f7a9abe87a15",
   "metadata": {},
   "outputs": [
    {
     "name": "stdout",
     "output_type": "stream",
     "text": [
      "IDs with higher temperatures than the previous day:\n",
      "2\n",
      "4\n"
     ]
    }
   ],
   "source": [
    "\n",
    "import sqlite3\n",
    "\n",
    "\n",
    "conn = sqlite3.connect(':memory:')\n",
    "cur = conn.cursor()\n",
    "\n",
    "\n",
    "cur.execute('''\n",
    "CREATE TABLE Weather (\n",
    "    id INT PRIMARY KEY,\n",
    "    recordDate DATE,\n",
    "    temperature INT\n",
    ");\n",
    "''')\n",
    "\n",
    "\n",
    "cur.execute('INSERT INTO Weather (id, recordDate, temperature) VALUES (1, \"2015-01-01\", 10)')\n",
    "cur.execute('INSERT INTO Weather (id, recordDate, temperature) VALUES (2, \"2015-01-02\", 25)')\n",
    "cur.execute('INSERT INTO Weather (id, recordDate, temperature) VALUES (3, \"2015-01-03\", 20)')\n",
    "cur.execute('INSERT INTO Weather (id, recordDate, temperature) VALUES (4, \"2015-01-04\", 30)')\n",
    "conn.commit()\n",
    "\n",
    "\n",
    "cur.execute('''\n",
    "SELECT w1.id\n",
    "FROM Weather w1\n",
    "JOIN Weather w2 ON w1.recordDate = DATE(w2.recordDate, '+1 day')\n",
    "WHERE w1.temperature > w2.temperature;\n",
    "''')\n",
    "\n",
    "\n",
    "result = cur.fetchall()\n",
    "print(\"IDs with higher temperatures than the previous day:\")\n",
    "for row in result:\n",
    "    print(row[0])\n",
    "\n",
    "\n",
    "conn.close()\n"
   ]
  },
  {
   "cell_type": "code",
   "execution_count": null,
   "id": "9bad5e1c-1eb8-4bcc-a9b3-85bf74f06f34",
   "metadata": {},
   "outputs": [],
   "source": []
  }
 ],
 "metadata": {
  "kernelspec": {
   "display_name": "Python 3 (ipykernel)",
   "language": "python",
   "name": "python3"
  },
  "language_info": {
   "codemirror_mode": {
    "name": "ipython",
    "version": 3
   },
   "file_extension": ".py",
   "mimetype": "text/x-python",
   "name": "python",
   "nbconvert_exporter": "python",
   "pygments_lexer": "ipython3",
   "version": "3.12.4"
  }
 },
 "nbformat": 4,
 "nbformat_minor": 5
}
